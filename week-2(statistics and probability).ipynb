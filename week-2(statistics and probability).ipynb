{
  "nbformat": 4,
  "nbformat_minor": 0,
  "metadata": {
    "colab": {
      "provenance": [],
      "toc_visible": true,
      "authorship_tag": "ABX9TyNJkTcCUXBONZWB+G5nnzQw",
      "include_colab_link": true
    },
    "kernelspec": {
      "name": "python3",
      "display_name": "Python 3"
    },
    "language_info": {
      "name": "python"
    }
  },
  "cells": [
    {
      "cell_type": "markdown",
      "metadata": {
        "id": "view-in-github",
        "colab_type": "text"
      },
      "source": [
        "<a href=\"https://colab.research.google.com/github/Nithyasree118/IIITH/blob/main/week-2(statistics%20and%20probability).ipynb\" target=\"_parent\"><img src=\"https://colab.research.google.com/assets/colab-badge.svg\" alt=\"Open In Colab\"/></a>"
      ]
    },
    {
      "cell_type": "code",
      "execution_count": null,
      "metadata": {
        "id": "5M3NeC9ykY7_"
      },
      "outputs": [],
      "source": []
    },
    {
      "cell_type": "markdown",
      "source": [
        "\n",
        "\n"
      ],
      "metadata": {
        "id": "I-Ba0ePtkbAH"
      }
    },
    {
      "cell_type": "markdown",
      "source": [
        "#total probability\n",
        "1)\n",
        "p(D)=0.1 , p(ND)=0.9 , p(P/D)=0.95 , p(P/ND)=0.1,  \n",
        "p(P)=p(P/D) * p(D)+ p(P/ND) * p(ND),              \n",
        "p(p)=(0.95)*(0.1)+(0.1)*(0.9)\n",
        "#bayes theorem\n",
        "1)               \n",
        "p(r)=0.1 , p(c)=0.4 , p(cy/r)=0.5 ,    \n",
        "p(r/c)=(p(c/r)*p(r))/p(c) ,        \n",
        "p(r/c)=((0.5)*(0.1))/0.4            \n",
        "\n",
        "2)\n",
        "   p(D)=0.1 , p(ND)=0.9 , p(P/D)=0.95 , p(P/ND)=0.1,         \n",
        "   p(p)=(0.95)*(0.1)+(0.1)*(0.9)   \n",
        "p(D/P)=(p(P/D) * p(D))/p(P/D) * p(D)+ p(P/ND) * p(ND)       \n",
        "p(D/P)=((0.95)*(0.1))/(0.95)*(0.1)+(0.1)*(0.9)  \\\n",
        "\n"
      ],
      "metadata": {
        "id": "j61moGrwqi7O"
      }
    },
    {
      "cell_type": "markdown",
      "source": [],
      "metadata": {
        "id": "jrRKfj1YqfF9"
      }
    },
    {
      "cell_type": "markdown",
      "source": [],
      "metadata": {
        "id": "slpPS6KNqcnl"
      }
    }
  ]
}